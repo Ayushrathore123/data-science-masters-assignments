{
 "cells": [
  {
   "cell_type": "markdown",
   "id": "e3b2080f",
   "metadata": {},
   "source": [
    "Q1. What are the three measures of central tendency"
   ]
  },
  {
   "cell_type": "markdown",
   "id": "287204c7",
   "metadata": {},
   "source": [
    "Mean: The mean is the most commonly used measure of central tendency. It is calculated by adding up all the values in a dataset and then dividing by the total number of values. The mean is sensitive to extreme values, or outliers, and can be affected by skewed distributions.\n",
    "\n",
    "Median: The median is the middle value in a dataset when the data is arranged in order. Half the values in the dataset are above the median, and half are below. The median is a robust measure of central tendency and is not affected by extreme values or outliers.\n",
    "\n",
    "Mode: The mode is the value that occurs most frequently in a dataset. A dataset can have one mode, multiple modes, or no mode. The mode can be useful for describing categorical data or for identifying the most common value in a dataset."
   ]
  },
  {
   "cell_type": "markdown",
   "id": "cf59b0c9",
   "metadata": {},
   "source": [
    "Q2. What is the difference between the mean, median, and mode? How are they used to measure the\n",
    "central tendency of a dataset?"
   ]
  },
  {
   "cell_type": "markdown",
   "id": "e3ba543e",
   "metadata": {},
   "source": [
    "The mean, median, and mode are all measures of central tendency, but they differ in the way they are calculated and the type of data they are best suited for. The mean is used for symmetrically distributed continuous data, while the median is used for skewed or non-normal data, and the mode is used for categorical or discrete data. It is important to choose the appropriate measure of central tendency based on the type and distribution of the data being analyzed"
   ]
  },
  {
   "cell_type": "markdown",
   "id": "9fd369f1",
   "metadata": {},
   "source": [
    "Q3. Measure the three measures of central tendency for the given height data:\n",
    "\n",
    " [178,177,176,177,178.2,178,175,179,180,175,178.9,176.2,177,172.5,178,176.5]"
   ]
  },
  {
   "cell_type": "code",
   "execution_count": 2,
   "id": "1b7b98f0",
   "metadata": {},
   "outputs": [],
   "source": [
    "weights=[178,177,176,177,178.2,178,175,179,180,175,178.9,176.2,177,172.5,178,176.5]"
   ]
  },
  {
   "cell_type": "code",
   "execution_count": 3,
   "id": "08b3718a",
   "metadata": {},
   "outputs": [],
   "source": [
    "import numpy as np"
   ]
  },
  {
   "cell_type": "code",
   "execution_count": 4,
   "id": "5a49757a",
   "metadata": {},
   "outputs": [
    {
     "data": {
      "text/plain": [
       "177.01875"
      ]
     },
     "execution_count": 4,
     "metadata": {},
     "output_type": "execute_result"
    }
   ],
   "source": [
    "np.mean(weights)"
   ]
  },
  {
   "cell_type": "code",
   "execution_count": 6,
   "id": "2d80ea82",
   "metadata": {},
   "outputs": [
    {
     "data": {
      "text/plain": [
       "177.0"
      ]
     },
     "execution_count": 6,
     "metadata": {},
     "output_type": "execute_result"
    }
   ],
   "source": [
    "np.median(weights)"
   ]
  },
  {
   "cell_type": "code",
   "execution_count": 7,
   "id": "b2298b18",
   "metadata": {},
   "outputs": [],
   "source": [
    "from scipy import stats"
   ]
  },
  {
   "cell_type": "code",
   "execution_count": 8,
   "id": "51d4339b",
   "metadata": {},
   "outputs": [
    {
     "data": {
      "text/plain": [
       "ModeResult(mode=array([177.]), count=array([3]))"
      ]
     },
     "execution_count": 8,
     "metadata": {},
     "output_type": "execute_result"
    }
   ],
   "source": [
    "stats.mode(weights)"
   ]
  },
  {
   "cell_type": "markdown",
   "id": "b8be552f",
   "metadata": {},
   "source": [
    "Q4. Find the standard deviation for the given data:\n",
    "\n",
    "[178,177,176,177,178.2,178,175,179,180,175,178.9,176.2,177,172.5,178,176.5]"
   ]
  },
  {
   "cell_type": "code",
   "execution_count": 10,
   "id": "db4f86ab",
   "metadata": {},
   "outputs": [],
   "source": [
    "ht_in_cm=[178,177,176,177,178.2,178,175,179,180,175,178.9,176.2,177,172.5,178,176.5]"
   ]
  },
  {
   "cell_type": "code",
   "execution_count": 11,
   "id": "58886a4a",
   "metadata": {},
   "outputs": [
    {
     "data": {
      "text/plain": [
       "1.7885814036548633"
      ]
     },
     "execution_count": 11,
     "metadata": {},
     "output_type": "execute_result"
    }
   ],
   "source": [
    "np.std(ht_in_cm)"
   ]
  },
  {
   "cell_type": "markdown",
   "id": "28cbc7ba",
   "metadata": {},
   "source": [
    "Q5. How are measures of dispersion such as range, variance, and standard deviation used to describe\n",
    "the spread of a dataset? Provide an example.\n",
    "\n"
   ]
  },
  {
   "cell_type": "markdown",
   "id": "4ac5f272",
   "metadata": {},
   "source": [
    "Range: The range is the difference between the maximum and minimum values in a dataset. It provides a simple measure of the spread of the data but is sensitive to extreme values or outliers.\n",
    "\n",
    "Variance: The variance is the average of the squared deviations from the mean. It measures how much the data is spread out around the mean, and is commonly used in inferential statistics to estimate the variability of the population from a sample.\n",
    "\n",
    "Standard deviation: The standard deviation is the square root of the variance. It provides a more intuitive measure of dispersion compared to variance, as it is in the same units as the data. It is widely used in statistical analysis and is particularly useful for describing the normal distribution."
   ]
  },
  {
   "cell_type": "markdown",
   "id": "c23e442a",
   "metadata": {},
   "source": [
    "Q6. What is a Venn diagram?"
   ]
  },
  {
   "cell_type": "markdown",
   "id": "a33bec05",
   "metadata": {},
   "source": [
    "A Venn diagram is a graphical representation of sets, which shows all possible logical relations between a finite collection of sets. It consists of overlapping circles or ovals, each representing a set, and the overlapping regions representing the intersection of the sets. "
   ]
  },
  {
   "cell_type": "markdown",
   "id": "af2f8ce5",
   "metadata": {},
   "source": [
    "Q7. For the two given sets A = (2,3,4,5,6,7) & B = (0,2,6,8,10). Find:\n",
    "\n",
    "(i) A B\n",
    "\n",
    "(ii)A ⋃ B"
   ]
  },
  {
   "cell_type": "markdown",
   "id": "d2b46417",
   "metadata": {},
   "source": [
    "solution\n",
    "(i) A ∩ B = {2, 6}\n",
    "\n",
    "(ii) A ⋃ B = {0, 2, 3, 4, 5, 6, 7, 8, 10}"
   ]
  },
  {
   "cell_type": "markdown",
   "id": "fcf533b6",
   "metadata": {},
   "source": [
    "\n",
    "Q8. What do you understand about skewness in data?"
   ]
  },
  {
   "cell_type": "markdown",
   "id": "86f78caf",
   "metadata": {},
   "source": [
    "Skewness is a measure of the asymmetry of a probability distribution, or in other words, it is a measure of how lopsided a distribution is. It is an important aspect of data analysis because it provides information about the shape of the distribution and can affect the choice of statistical tests used to analyze the data."
   ]
  },
  {
   "cell_type": "markdown",
   "id": "98ae15b5",
   "metadata": {},
   "source": [
    "Q9. If a data is right skewed then what will be the position of median with respect to mean?"
   ]
  },
  {
   "cell_type": "markdown",
   "id": "9e355e86",
   "metadata": {},
   "source": [
    "the mean is pulled towards the longer tail on the right-hand side, making it greater than the median."
   ]
  },
  {
   "cell_type": "markdown",
   "id": "875ed326",
   "metadata": {},
   "source": [
    "Q10. Explain the difference between covariance and correlation. How are these measures used in\n",
    "statistical analysis?"
   ]
  },
  {
   "cell_type": "markdown",
   "id": "ed4f34f9",
   "metadata": {},
   "source": [
    " covariance and correlation are used to assess the strength and direction of the relationship between two variables. Covariance and correlation can help identify whether two variables are positively or negatively related, and to what degree. Correlation is often preferred over covariance because it provides a standardized measure of association that is easier to interpret and compare. Correlation can also be used to identify the presence of outliers or influential points in the data, and to determine the predictive power of one variable over another."
   ]
  },
  {
   "cell_type": "markdown",
   "id": "7aca4384",
   "metadata": {},
   "source": [
    "Q11. What is the formula for calculating the sample mean? Provide an example calculation for a\n",
    "dataset."
   ]
  },
  {
   "cell_type": "markdown",
   "id": "8b423e52",
   "metadata": {},
   "source": [
    "sample mean = (sum of all values in the sample) / (number of values in the sample)\n",
    "\n",
    "For example, let's say we have the following dataset:\n",
    "\n",
    "2, 5, 8, 3, 9, 7, 4\n",
    "\n",
    "To calculate the sample mean, we add up all the values in the dataset and divide by the total number of values:\n",
    "\n",
    "sample mean = (2 + 5 + 8 + 3 + 9 + 7 + 4) / 7\n",
    "sample mean = 38 / 7\n",
    "sample mean ≈ 5.43"
   ]
  },
  {
   "cell_type": "markdown",
   "id": "3cfb5de4",
   "metadata": {},
   "source": [
    "Q12. For a normal distribution data what is the relationship between its measure of central tendency?"
   ]
  },
  {
   "cell_type": "markdown",
   "id": "9d09d4cc",
   "metadata": {},
   "source": [
    "For a normal distribution, the mean, median, and mode are all equal. This is because the normal distribution is symmetric around its mean, so the midpoint of the distribution (which is the median) and the peak of the distribution (which is the mode) are both located at the same point as the mean. Therefore, the measure of central tendency in a normal distribution are all the same value."
   ]
  },
  {
   "cell_type": "markdown",
   "id": "ef110e9a",
   "metadata": {},
   "source": [
    "Q13. How is covariance different from correlation?"
   ]
  },
  {
   "cell_type": "markdown",
   "id": "b8ea7470",
   "metadata": {},
   "source": [
    "Covariance can take on any value between negative infinity and infinity, and its value is affected by the scale of the variables. Therefore, it is difficult to compare the covariance of two different pairs of variables.\n",
    "\n",
    "Correlation, on the other hand, ranges between -1 and 1, with values of -1 indicating a perfect negative linear relationship, 0 indicating no linear relationship, and 1 indicating a perfect positive linear relationship. Correlation is unaffected by the scale of the variables and allows for easier comparison of the strength of the relationship between different pairs of variables.\n",
    "\n",
    "In summary, covariance and correlation are related measures, but correlation is a standardized version of covariance that measures both the direction and strength of the linear relationship between two variables."
   ]
  },
  {
   "cell_type": "markdown",
   "id": "5d297a0a",
   "metadata": {},
   "source": [
    "Q14. How do outliers affect measures of central tendency and dispersion? Provide an example."
   ]
  },
  {
   "cell_type": "code",
   "execution_count": 21,
   "id": "7bbd66db",
   "metadata": {},
   "outputs": [],
   "source": [
    "weights=[13,45,35,78,99,22,46,66,88]"
   ]
  },
  {
   "cell_type": "code",
   "execution_count": 22,
   "id": "3607648e",
   "metadata": {},
   "outputs": [
    {
     "data": {
      "text/plain": [
       "54.666666666666664"
      ]
     },
     "execution_count": 22,
     "metadata": {},
     "output_type": "execute_result"
    }
   ],
   "source": [
    "np.mean(weights)"
   ]
  },
  {
   "cell_type": "code",
   "execution_count": 23,
   "id": "b1236993",
   "metadata": {},
   "outputs": [
    {
     "data": {
      "text/plain": [
       "46.0"
      ]
     },
     "execution_count": 23,
     "metadata": {},
     "output_type": "execute_result"
    }
   ],
   "source": [
    "np.median(weights)"
   ]
  },
  {
   "cell_type": "code",
   "execution_count": 24,
   "id": "df49e47a",
   "metadata": {},
   "outputs": [],
   "source": [
    "weights=[13,45,35,78,99,22,46,66,88,1000]"
   ]
  },
  {
   "cell_type": "code",
   "execution_count": 25,
   "id": "d2262380",
   "metadata": {},
   "outputs": [
    {
     "data": {
      "text/plain": [
       "149.2"
      ]
     },
     "execution_count": 25,
     "metadata": {},
     "output_type": "execute_result"
    }
   ],
   "source": [
    "np.mean(weights)"
   ]
  },
  {
   "cell_type": "code",
   "execution_count": 26,
   "id": "c1ab3ab0",
   "metadata": {},
   "outputs": [
    {
     "data": {
      "text/plain": [
       "56.0"
      ]
     },
     "execution_count": 26,
     "metadata": {},
     "output_type": "execute_result"
    }
   ],
   "source": [
    "np.median(weights)"
   ]
  },
  {
   "cell_type": "code",
   "execution_count": null,
   "id": "06c9d290",
   "metadata": {},
   "outputs": [],
   "source": []
  }
 ],
 "metadata": {
  "kernelspec": {
   "display_name": "Python 3 (ipykernel)",
   "language": "python",
   "name": "python3"
  },
  "language_info": {
   "codemirror_mode": {
    "name": "ipython",
    "version": 3
   },
   "file_extension": ".py",
   "mimetype": "text/x-python",
   "name": "python",
   "nbconvert_exporter": "python",
   "pygments_lexer": "ipython3",
   "version": "3.9.12"
  }
 },
 "nbformat": 4,
 "nbformat_minor": 5
}
