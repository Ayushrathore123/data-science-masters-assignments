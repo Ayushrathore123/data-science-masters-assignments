{
 "cells": [
  {
   "cell_type": "markdown",
   "id": "71060b93",
   "metadata": {},
   "source": [
    "Q1: What are the Probability Mass Function (PMF) and Probability Density Function (PDF)? Explain with\n",
    "an example."
   ]
  },
  {
   "cell_type": "markdown",
   "id": "3ef2cb51",
   "metadata": {},
   "source": [
    "PMF is a function that describes the probability of obtaining a specific value for a discrete random variable. It gives the probability that a discrete random variable takes on a particular value. The PMF is defined for each possible value of the discrete random variable and the sum of all the probabilities for all possible values is equal to 1. For example, if we have a coin that we flip 5 times, the PMF would give the probability of getting 0 heads, 1 head, 2 heads, 3 heads, 4 heads, or 5 heads.\n",
    "\n",
    "PDF, on the other hand, is a function that describes the probability distribution of a continuous random variable. Unlike PMF, PDF is not defined for each possible value of the random variable, but instead is defined for a range of values. The area under the curve of the PDF between two points gives the probability that the value of the continuous random variable falls between those two points. For example, if we have a normally distributed random variable with a mean of 10 and a standard deviation of 2, the PDF would give the probability of the variable taking on values within a certain range, such as the probability of the variable being between 8 and 12."
   ]
  },
  {
   "cell_type": "markdown",
   "id": "d2e0e3dd",
   "metadata": {},
   "source": [
    "Q2: What is Cumulative Density Function (CDF)? Explain with an example. Why CDF is used?"
   ]
  },
  {
   "cell_type": "markdown",
   "id": "54792521",
   "metadata": {},
   "source": [
    "Cumulative Density Function (CDF) is a function that shows the probability of a random variable X taking a value less than or equal to x. It is the integral of the Probability Density Function (PDF) from negative infinity to x.\n",
    "\n",
    "Mathematically, CDF is expressed as:\n",
    "\n",
    "F(x) = P(X <= x) = ∫ f(t) dt where t ranges from negative infinity to x.\n",
    "\n",
    "where f(t) is the PDF of the random variable X.\n",
    "\n",
    "CDF is used to determine the probability of a random variable X taking a value less than or equal to a certain value x. It is a useful tool in probability and statistics to calculate and analyze the distribution of random variables.\n",
    "\n",
    "For example, suppose we have a normal distribution with a mean of 10 and standard deviation of 2. We want to calculate the probability of X being less than or equal to 8. To do this, we can use the CDF of the normal distribution.\n",
    "\n",
    "Using the CDF, we can calculate:\n",
    "\n",
    "F(8) = P(X <= 8) = ∫ f(t) dt from negative infinity to 8.\n",
    "\n",
    "Using the standard normal table or a calculator, we can find the value of the integral to be approximately 0.1587. Therefore, the probability of X being less than or equal to 8 is 0.1587."
   ]
  },
  {
   "cell_type": "markdown",
   "id": "cdda4eff",
   "metadata": {},
   "source": [
    "Q3: What are some examples of situations where the normal distribution might be used as a model?\n",
    "Explain how the parameters of the normal distribution relate to the shape of the distribution."
   ]
  },
  {
   "cell_type": "markdown",
   "id": "73bc0d48",
   "metadata": {},
   "source": [
    "The normal distribution is a commonly used probability distribution in statistics due to its versatility and prevalence in many natural phenomena. Some examples of situations where the normal distribution might be used as a model include:\n",
    "\n",
    "Heights and weights of individuals in a population\n",
    "\n",
    "Test scores in a large group of students\n",
    "\n",
    "Time taken to complete a task by a group of workers\n",
    "\n",
    "The volume of air breathed in by individuals in a population\n",
    "\n",
    "The normal distribution is characterized by two parameters: mean (µ) and standard deviation (σ). The mean represents the center of the distribution and the standard deviation represents the spread or variability of the distribution. The larger the value of σ, the more spread out the distribution will be. Additionally, the mean and standard deviation provide information about the probability of a particular value occurring within the distribution. Specifically, the mean represents the value with the highest probability of occurrence, while the probability of a value occurring at a distance of k standard deviations from the mean is given by the formula:\n",
    "\n",
    "P(X=µ±kσ) = 68.27% (k=1), 95.45% (k=2), 99.73% (k=3)\n",
    "\n",
    "The normal distribution is widely used in statistical analysis due to the central limit theorem, which states that the sum of a large number of independent and identically distributed random variables, regardless of their distribution, will approach a normal distribution."
   ]
  },
  {
   "cell_type": "markdown",
   "id": "2765ab07",
   "metadata": {},
   "source": [
    "Q4: Explain the importance of Normal Distribution. Give a few real-life examples of Normal\n",
    "Distribution."
   ]
  },
  {
   "cell_type": "markdown",
   "id": "ac61e201",
   "metadata": {},
   "source": [
    "The normal distribution is one of the most important probability distributions in statistics. It is also known as the Gaussian distribution or bell curve. The importance of the normal distribution is due to its properties of being symmetrical, continuous, and having a known mean and standard deviation. This allows for a great deal of statistical analysis and inference, as well as modeling many real-life phenomena.\n",
    "\n",
    "Some examples of real-life phenomena that follow a normal distribution include:\n",
    "\n",
    "Heights of people: The heights of people in a population tend to follow a normal distribution, with the mean height being the center of the distribution.\n",
    "\n",
    "IQ scores: IQ scores of a large population tend to follow a normal distribution, with the average score being the center of the distribution.\n",
    "\n",
    "Test scores: The scores on a well-designed test tend to follow a normal distribution.\n",
    "\n",
    "Errors in measurements: In many cases, errors in measurements tend to follow a normal distribution.\n",
    "\n",
    "Daily temperature: The daily temperature fluctuations tend to follow a normal distribution in many parts of the world."
   ]
  },
  {
   "cell_type": "markdown",
   "id": "a71684f0",
   "metadata": {},
   "source": [
    "Q5: What is Bernaulli Distribution? Give an Example. What is the difference between Bernoulli\n",
    "Distribution and Binomial Distribution?"
   ]
  },
  {
   "cell_type": "markdown",
   "id": "bbb29b4a",
   "metadata": {},
   "source": [
    "Bernoulli distribution is a discrete probability distribution that models the outcomes of a single experiment or trial that has two possible outcomes: success with probability p and failure with probability 1-p. It is named after the Swiss mathematician Jacob Bernoulli.\n",
    "\n",
    "For example, flipping a coin can be modeled using a Bernoulli distribution, where the success is getting heads and the probability of success is 0.5. Rolling a die and getting a particular face can also be modeled using a Bernoulli distribution.\n",
    "\n",
    "The main difference between Bernoulli distribution and Binomial distribution is that Bernoulli distribution models a single trial with two outcomes, while Binomial distribution models the number of successes in a fixed number of independent trials with two outcomes. Binomial distribution can be seen as the sum of independent and identically distributed Bernoulli trials.\n",
    "\n",
    "For instance, if you roll a fair six-sided die five times and count the number of times it lands on 4, then this can be modeled using a binomial distribution with parameters n = 5 and p = 1/6, where n is the number of trials and p is the probability of success in each trial.\n",
    "\n",
    "\n",
    "\n",
    "\n"
   ]
  },
  {
   "cell_type": "markdown",
   "id": "f1e99d7e",
   "metadata": {},
   "source": [
    "Q6. Consider a dataset with a mean of 50 and a standard deviation of 10. If we assume that the dataset\n",
    "is normally distributed, what is the probability that a randomly selected observation will be greater\n",
    "than 60? Use the appropriate formula and show your calculations."
   ]
  },
  {
   "cell_type": "markdown",
   "id": "38f57fe8",
   "metadata": {},
   "source": [
    "To find the probability that a randomly selected observation from a normal distribution with mean 50 and standard deviation 10 will be greater than 60, we need to use the standard normal distribution formula.\n",
    "\n",
    "The z-score for a value of 60 can be calculated as:\n",
    "\n",
    "z = (60 - 50) / 10 = 1\n",
    "\n",
    "Using a standard normal distribution table, we can find the probability of a z-score greater than 1 as 0.1587.\n",
    "\n",
    "Therefore, the probability that a randomly selected observation from this normal distribution will be greater than 60 is 0.1587."
   ]
  },
  {
   "cell_type": "markdown",
   "id": "ad0cafdb",
   "metadata": {},
   "source": [
    "Q7: Explain uniform Distribution with an example."
   ]
  },
  {
   "cell_type": "markdown",
   "id": "0656b9e4",
   "metadata": {},
   "source": [
    "Uniform distribution is a probability distribution in which every possible value within a given range is equally likely to occur. In other words, it is a distribution where all outcomes are equally probable. It is often represented graphically as a rectangular-shaped distribution with constant density within the range.\n",
    "\n",
    "For example, suppose you roll a fair six-sided die. The probability of rolling each number (1, 2, 3, 4, 5, or 6) is the same, i.e., 1/6. This is an example of a discrete uniform distribution since the possible outcomes are discrete values (i.e., integers) within a certain range."
   ]
  },
  {
   "cell_type": "markdown",
   "id": "85012fd7",
   "metadata": {},
   "source": [
    "Q8: What is the z score? State the importance of the z score."
   ]
  },
  {
   "cell_type": "markdown",
   "id": "0d0e3e51",
   "metadata": {},
   "source": [
    "The z score (also known as standard score or z-value) is a measure of how many standard deviations a particular observation or data point is away from the mean of the dataset. The formula for calculating the z score is:\n",
    "\n",
    "z = (x - μ) / σ\n",
    "\n",
    "where x is the observation, μ is the mean of the dataset, and σ is the standard deviation.\n",
    "\n",
    "The z score is important because it allows us to compare data points from different datasets that may have different units or scales. By converting the data into a standard unit (number of standard deviations from the mean), we can easily compare observations and determine whether they are relatively high or low compared to the rest of the data."
   ]
  },
  {
   "cell_type": "markdown",
   "id": "133fa319",
   "metadata": {},
   "source": [
    "Q9: What is Central Limit Theorem? State the significance of the Central Limit Theorem."
   ]
  },
  {
   "cell_type": "markdown",
   "id": "493f4625",
   "metadata": {},
   "source": [
    "The Central Limit Theorem (CLT) is a fundamental concept in probability theory and statistics. It states that the sampling distribution of the means of any sufficiently large sample size from a population with a finite mean and standard deviation will be approximately normally distributed, regardless of the shape of the population distribution.\n",
    "\n",
    "The significance of the CLT is that it allows us to use the normal distribution as a model for many real-world data sets. It is especially important in hypothesis testing and confidence interval estimation, as it provides a basis for many statistical tests and intervals."
   ]
  },
  {
   "cell_type": "markdown",
   "id": "37c76752",
   "metadata": {},
   "source": [
    "Q10: State the assumptions of the Central Limit Theorem."
   ]
  },
  {
   "cell_type": "markdown",
   "id": "bc812024",
   "metadata": {},
   "source": [
    "The Central Limit Theorem (CLT) makes some assumptions to hold true for the theorem to be applicable. These assumptions are:\n",
    "\n",
    "The sample size should be large (typically n ≥ 30) from a population, and the samples should be randomly selected.\n",
    "\n",
    "The population should have a finite variance (i.e., it should not be infinite).\n",
    "\n",
    "The observations in the sample should be independent of each other."
   ]
  },
  {
   "cell_type": "code",
   "execution_count": null,
   "id": "fd6b2f5d",
   "metadata": {},
   "outputs": [],
   "source": []
  }
 ],
 "metadata": {
  "kernelspec": {
   "display_name": "Python 3 (ipykernel)",
   "language": "python",
   "name": "python3"
  },
  "language_info": {
   "codemirror_mode": {
    "name": "ipython",
    "version": 3
   },
   "file_extension": ".py",
   "mimetype": "text/x-python",
   "name": "python",
   "nbconvert_exporter": "python",
   "pygments_lexer": "ipython3",
   "version": "3.9.12"
  }
 },
 "nbformat": 4,
 "nbformat_minor": 5
}
