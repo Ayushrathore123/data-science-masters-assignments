{
 "cells": [
  {
   "cell_type": "markdown",
   "id": "fc059f55",
   "metadata": {},
   "source": [
    "Q.1 what is an exception in python? what is difference between exception and syntax error."
   ]
  },
  {
   "cell_type": "markdown",
   "id": "2f126601",
   "metadata": {},
   "source": [
    "In Python, an exception is a runtime error that occurs when your program encounters an unexpected condition or situation that it cannot handle. Exceptions can be caused by a wide range of factors, such as invalid input, unexpected data types, or external factors like network failures.\n",
    "\n",
    "\n",
    "The main difference between exceptions and syntax errors is that exceptions occur at runtime while your code is running, while syntax errors are detected by the interpreter before your code runs. Syntax errors prevent your code from running at all, while exceptions can be caught and handled in your code so that your program can continue running even if an error occurs."
   ]
  },
  {
   "cell_type": "markdown",
   "id": "ce692a4c",
   "metadata": {},
   "source": [
    "Q2. What happens when the exception is not handled? Explain with example"
   ]
  },
  {
   "cell_type": "markdown",
   "id": "e3471f55",
   "metadata": {},
   "source": [
    "When an exception is not handled in Python, it will cause the program to terminate and an error message will be displayed on the console. This error message will include information about the type of exception that was raised, as well as a traceback that shows where the exception occurred in the code."
   ]
  },
  {
   "cell_type": "code",
   "execution_count": 47,
   "id": "2b4babea",
   "metadata": {},
   "outputs": [
    {
     "ename": "ZeroDivisionError",
     "evalue": "division by zero",
     "output_type": "error",
     "traceback": [
      "\u001b[1;31m---------------------------------------------------------------------------\u001b[0m",
      "\u001b[1;31mZeroDivisionError\u001b[0m                         Traceback (most recent call last)",
      "Input \u001b[1;32mIn [47]\u001b[0m, in \u001b[0;36m<cell line: 4>\u001b[1;34m()\u001b[0m\n\u001b[0;32m      1\u001b[0m \u001b[38;5;28;01mdef\u001b[39;00m \u001b[38;5;21mdivide\u001b[39m(a, b):\n\u001b[0;32m      2\u001b[0m     \u001b[38;5;28;01mreturn\u001b[39;00m a \u001b[38;5;241m/\u001b[39m b\n\u001b[1;32m----> 4\u001b[0m result \u001b[38;5;241m=\u001b[39m \u001b[43mdivide\u001b[49m\u001b[43m(\u001b[49m\u001b[38;5;241;43m10\u001b[39;49m\u001b[43m,\u001b[49m\u001b[43m \u001b[49m\u001b[38;5;241;43m0\u001b[39;49m\u001b[43m)\u001b[49m\n",
      "Input \u001b[1;32mIn [47]\u001b[0m, in \u001b[0;36mdivide\u001b[1;34m(a, b)\u001b[0m\n\u001b[0;32m      1\u001b[0m \u001b[38;5;28;01mdef\u001b[39;00m \u001b[38;5;21mdivide\u001b[39m(a, b):\n\u001b[1;32m----> 2\u001b[0m     \u001b[38;5;28;01mreturn\u001b[39;00m \u001b[43ma\u001b[49m\u001b[43m \u001b[49m\u001b[38;5;241;43m/\u001b[39;49m\u001b[43m \u001b[49m\u001b[43mb\u001b[49m\n",
      "\u001b[1;31mZeroDivisionError\u001b[0m: division by zero"
     ]
    }
   ],
   "source": [
    "def divide(a, b):\n",
    "    return a / b\n",
    "\n",
    "result = divide(10, 0)\n"
   ]
  },
  {
   "cell_type": "markdown",
   "id": "457dbe3b",
   "metadata": {},
   "source": [
    "Q3. which python statement is used to catch and handle exception? Explain with example"
   ]
  },
  {
   "cell_type": "code",
   "execution_count": 48,
   "id": "6d9d508d",
   "metadata": {},
   "outputs": [
    {
     "name": "stdout",
     "output_type": "stream",
     "text": [
      "Result: 5.0\n",
      "Cannot divide by zero!\n"
     ]
    }
   ],
   "source": [
    "def divide(a, b):\n",
    "    try:\n",
    "        result = a / b\n",
    "        print(\"Result:\", result)\n",
    "    except ZeroDivisionError:\n",
    "        print(\"Cannot divide by zero!\")\n",
    "\n",
    "divide(10, 2)\n",
    "divide(10, 0)\n"
   ]
  },
  {
   "cell_type": "markdown",
   "id": "ff7fbda5",
   "metadata": {},
   "source": [
    "Q4. Explain with example:\n",
    "\n",
    "    a. try and else\n",
    "    \n",
    "    b.finally\n",
    "    \n",
    "    c.raise"
   ]
  },
  {
   "cell_type": "code",
   "execution_count": 50,
   "id": "193d914b",
   "metadata": {},
   "outputs": [
    {
     "name": "stdout",
     "output_type": "stream",
     "text": [
      "enter the number10\n",
      "enter the  another number12\n",
      "The result of dividing 10 and 12 is 182.87700784953805\n"
     ]
    }
   ],
   "source": [
    "# try and else\n",
    "try:\n",
    "    num1=int(input(\"enter the number\"))\n",
    "    num2=int(input(\"enter the  another number\"))\n",
    "    resutl=num1/num2\n",
    "except ZeroDivisionError:\n",
    "    print(\"cannot divised by zero\")\n",
    "else:\n",
    "    print(f\"The result of dividing {num1} and {num2} is {result}\")\n",
    "    "
   ]
  },
  {
   "cell_type": "code",
   "execution_count": 44,
   "id": "5ec4f2cb",
   "metadata": {},
   "outputs": [
    {
     "name": "stdout",
     "output_type": "stream",
     "text": [
      "File not found.\n"
     ]
    },
    {
     "ename": "NameError",
     "evalue": "name 'file' is not defined",
     "output_type": "error",
     "traceback": [
      "\u001b[1;31m---------------------------------------------------------------------------\u001b[0m",
      "\u001b[1;31mNameError\u001b[0m                                 Traceback (most recent call last)",
      "Input \u001b[1;32mIn [44]\u001b[0m, in \u001b[0;36m<cell line: 2>\u001b[1;34m()\u001b[0m\n\u001b[0;32m      6\u001b[0m     \u001b[38;5;28mprint\u001b[39m(\u001b[38;5;124m\"\u001b[39m\u001b[38;5;124mFile not found.\u001b[39m\u001b[38;5;124m\"\u001b[39m)\n\u001b[0;32m      7\u001b[0m \u001b[38;5;28;01mfinally\u001b[39;00m:\n\u001b[1;32m----> 8\u001b[0m     \u001b[43mfile\u001b[49m\u001b[38;5;241m.\u001b[39mclose()\n",
      "\u001b[1;31mNameError\u001b[0m: name 'file' is not defined"
     ]
    }
   ],
   "source": [
    "# finally\n",
    "try:\n",
    "    file = open(\"example.txt\", \"r\")\n",
    "    content = file.read()\n",
    "except FileNotFoundError:\n",
    "    print(\"File not found.\")\n",
    "finally:\n",
    "    file.close()\n"
   ]
  },
  {
   "cell_type": "code",
   "execution_count": 45,
   "id": "c09e1889",
   "metadata": {},
   "outputs": [
    {
     "name": "stdout",
     "output_type": "stream",
     "text": [
      "The speed of your car is :332\n"
     ]
    }
   ],
   "source": [
    "# raise \n",
    "class car_speed(Exception):\n",
    "    pass\n",
    "def get_speed(speed):\n",
    "    if speed<0:\n",
    "        raise car_speed(\"car speed cannot be negative\")\n",
    "    else:\n",
    "        return speed\n",
    "try:\n",
    "    speed=get_speed(332)\n",
    "    print(f\"The speed of your car is :{speed}\")\n",
    "\n",
    "except car_speed as e:\n",
    "      print(e)\n"
   ]
  },
  {
   "cell_type": "markdown",
   "id": "70c5f862",
   "metadata": {},
   "source": [
    "Q5. what are custom exception in python?why do we need custom exception? explain with example?"
   ]
  },
  {
   "cell_type": "markdown",
   "id": "4bf1c5d3",
   "metadata": {},
   "source": [
    "Custom exceptions in Python are user-defined exceptions that allow programmers to define their own error messages and raise them in their code when certain conditions are met. These exceptions inherit from the built-in Exception class and can be raised using the raise statement."
   ]
  },
  {
   "cell_type": "code",
   "execution_count": 46,
   "id": "1b372a99",
   "metadata": {},
   "outputs": [
    {
     "name": "stdout",
     "output_type": "stream",
     "text": [
      "Insufficent balance in account\n"
     ]
    }
   ],
   "source": [
    "class InsuffficientBalanceError(Exception):\n",
    "    pass\n",
    "def withdrawl(amount,balance):\n",
    "    if amount>balance:\n",
    "        raise InsuffficientBalanceError(\"Insufficent balance in account\")\n",
    "    else:\n",
    "        return balance-amount\n",
    "balance=1599\n",
    "amount=2000\n",
    "        \n",
    "try:\n",
    "    new_balance=withdrawl(amount,balance)\n",
    "    print(f\"withdrawl {amount} from account.new balance is {new_balance}\")\n",
    "except InsuffficientBalanceError as e:\n",
    "          print(e)\n",
    "    \n",
    "    "
   ]
  },
  {
   "cell_type": "markdown",
   "id": "706333e7",
   "metadata": {},
   "source": [
    "Q6.create a custom exception use this class to handle exception"
   ]
  },
  {
   "cell_type": "code",
   "execution_count": 15,
   "id": "94fecd48",
   "metadata": {},
   "outputs": [
    {
     "name": "stdout",
     "output_type": "stream",
     "text": [
      "enter the number-88883883839\n",
      "Cannot take square root of negative number.\n"
     ]
    }
   ],
   "source": [
    "number = int(input(\"enter the number\"))\n",
    "\n",
    "class NegativeNumberError(Exception):\n",
    "    def __init__(self,num):\n",
    "        self.num=num\n",
    "\n",
    "def square_root(num):\n",
    "    if num < 0:\n",
    "        raise NegativeNumberError(\"Cannot take square root of negative number.\")\n",
    "    else:\n",
    "        return num ** 0.5\n",
    "\n",
    "try:\n",
    "    result = square_root(number)\n",
    "    print(result)\n",
    "except NegativeNumberError as e:\n",
    "    print(e)\n"
   ]
  },
  {
   "cell_type": "code",
   "execution_count": null,
   "id": "5cc70771",
   "metadata": {},
   "outputs": [],
   "source": []
  }
 ],
 "metadata": {
  "kernelspec": {
   "display_name": "Python 3 (ipykernel)",
   "language": "python",
   "name": "python3"
  },
  "language_info": {
   "codemirror_mode": {
    "name": "ipython",
    "version": 3
   },
   "file_extension": ".py",
   "mimetype": "text/x-python",
   "name": "python",
   "nbconvert_exporter": "python",
   "pygments_lexer": "ipython3",
   "version": "3.9.12"
  }
 },
 "nbformat": 4,
 "nbformat_minor": 5
}
