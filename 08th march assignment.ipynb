{
 "cells": [
  {
   "cell_type": "markdown",
   "id": "c784f7b5",
   "metadata": {},
   "source": [
    "Q1. What is the Probability density function?"
   ]
  },
  {
   "cell_type": "markdown",
   "id": "102266f9",
   "metadata": {},
   "source": [
    " The PDF provides the probability density of the random variable, i.e., the probability of the variable taking on a particular value is equal to the area under the curve of the PDF at that value. The area under the entire curve of the PDF is equal to 1, representing the total probability of all possible outcomes."
   ]
  },
  {
   "cell_type": "markdown",
   "id": "f2f16ba5",
   "metadata": {},
   "source": [
    "Q2. What are the types of Probability distribution?"
   ]
  },
  {
   "cell_type": "markdown",
   "id": "a34468f4",
   "metadata": {},
   "source": [
    "1.Normal/gaussian Distribution (pdf)\n",
    "\n",
    "2.Bernouli Distribution (pmf)\n",
    "\n",
    "3.uniform Distribution.\n",
    "\n",
    "4.log normal Distribution\n",
    "\n",
    "5.poison Distribution\n",
    "\n",
    "6.power law distribution\n",
    "\n",
    "7.Binomial Distrribution\n"
   ]
  },
  {
   "cell_type": "markdown",
   "id": "234ff767",
   "metadata": {},
   "source": [
    "Q3. Write a Python function to calculate the probability density function of a normal distribution with\n",
    "given mean and standard deviation at a given point."
   ]
  },
  {
   "cell_type": "code",
   "execution_count": 6,
   "id": "f5421059",
   "metadata": {},
   "outputs": [
    {
     "name": "stdout",
     "output_type": "stream",
     "text": [
      "0.0804410163156249\n"
     ]
    }
   ],
   "source": [
    "from scipy.stats import norm\n",
    "import numpy as np\n",
    "\n",
    "data_start = -5\n",
    "data_end = 5\n",
    "data_points = 11\n",
    "data = np.linspace(data_start, data_end, data_points)\n",
    "\n",
    "mean = np.mean(data)\n",
    "std = np.std(data)\n",
    "\n",
    "probability_pdf = norm.pdf(3, loc=mean, scale=std)\n",
    "print(probability_pdf)\n"
   ]
  },
  {
   "cell_type": "markdown",
   "id": "32332563",
   "metadata": {},
   "source": [
    "Q4. What are the properties of Binomial distribution? Give two examples of events where binomial\n",
    "distribution can be applied."
   ]
  },
  {
   "cell_type": "markdown",
   "id": "d552893b",
   "metadata": {},
   "source": [
    "Properties of Binomial Distribution:\n",
    "\n",
    "There are a fixed number of independent trials, denoted as n.\n",
    "\n",
    "Each trial has only two possible outcomes, typically called success and failure.\n",
    "\n",
    "The probability of success, denoted as p, remains constant from trial to trial.\n",
    "\n",
    "The trials are independent, meaning that the outcome of one trial does not affect the outcome of any other trial.\n",
    "\n",
    "The random variable X, which represents the number of successes in n trials, follows a Binomial distribution.\n",
    "\n",
    "Two examples of events where binomial distribution can be applied are:\n",
    "\n",
    "Tossing a coin multiple times: If we toss a coin multiple times, then each toss is a Bernoulli trial with two possible outcomes: heads or tails. We can use binomial distribution to find the probability of getting a certain number of heads or tails in a fixed number of tosses, given the probability of getting a head (or tail) on any given toss.\n",
    "\n",
    "Quality control in manufacturing: If a company produces a large number of identical items, they can use binomial distribution to determine the probability of a certain number of defective items in a sample of fixed size, given the overall probability of a defect in any single item. This can help the company identify and address quality control issues."
   ]
  },
  {
   "cell_type": "markdown",
   "id": "eff5635c",
   "metadata": {},
   "source": [
    "Q5. Generate a random sample of size 1000 from a binomial distribution with probability of success 0.4\n",
    "and plot a histogram of the results using matplotlib."
   ]
  },
  {
   "cell_type": "code",
   "execution_count": 8,
   "id": "06961f4e",
   "metadata": {},
   "outputs": [
    {
     "data": {
      "image/png": "[encoded data removed]",
      "text/plain": [
       "<Figure size 432x288 with 1 Axes>"
      ]
     },
     "metadata": {
      "needs_background": "light"
     },
     "output_type": "display_data"
    }
   ],
   "source": [
    "import numpy as np\n",
    "import matplotlib.pyplot as plt\n",
    "\n",
    "# Generate a random sample of size 1000 from a binomial distribution with probability of success 0.4\n",
    "n = 1000  # sample size\n",
    "p = 0.4   # probability of success\n",
    "sample = np.random.binomial(n, p, size=n)\n",
    "\n",
    "# Plot a histogram of the results\n",
    "plt.hist(sample, bins=20)\n",
    "plt.xlabel('Number of successes')\n",
    "plt.ylabel('Frequency')\n",
    "plt.title('Binomial distribution with n=1000, p=0.4')\n",
    "plt.show()\n"
   ]
  },
  {
   "cell_type": "markdown",
   "id": "c86f9a1d",
   "metadata": {},
   "source": [
    "Q6. Write a Python function to calculate the cumulative distribution function of a Poisson distribution\n",
    "with given mean at a given point."
   ]
  },
  {
   "cell_type": "code",
   "execution_count": 36,
   "id": "c609454a",
   "metadata": {},
   "outputs": [
    {
     "data": {
      "text/plain": [
       "0.9160820579686966"
      ]
     },
     "execution_count": 36,
     "metadata": {},
     "output_type": "execute_result"
    }
   ],
   "source": [
    "\n",
    "import math\n",
    "def poisson_cdf(k, lam):\n",
    "    cdf = 0.0\n",
    "    for i in range(k+1):\n",
    "            cdf += (lam**i * math.exp(-lam)) / math.factorial(i)\n",
    "    return cdf\n",
    "poisson_cdf(5,3)\n"
   ]
  },
  {
   "cell_type": "markdown",
   "id": "5ff6d183",
   "metadata": {},
   "source": [
    "Q7. How Binomial distribution different from Poisson distribution?"
   ]
  },
  {
   "cell_type": "markdown",
   "id": "8b4b08ea",
   "metadata": {},
   "source": [
    "Definition: A binomial distribution describes the number of successes in a fixed number of independent trials, each with the same probability of success. A Poisson distribution describes the number of events occurring in a fixed interval of time or space, where the events occur randomly and independently with a constant rate.\n",
    "\n",
    "Number of trials: A binomial distribution requires a fixed number of trials, while a Poisson distribution does not.\n",
    "\n",
    "Probability of success: In a binomial distribution, the probability of success is fixed for each trial, while in a Poisson distribution, the rate of events is fixed.\n",
    "\n",
    "Mean and variance: The mean and variance of a binomial distribution are both calculated as n*p, where n is the number of trials and p is the probability of success. The mean of a Poisson distribution is equal to the rate parameter lambda, while the variance is also equal to lambda.\n",
    "\n",
    "Application: Binomial distribution is commonly used to model the probability of success in situations where there are only two possible outcomes, such as flipping a coin or a product being defective. Poisson distribution is commonly used to model the probability of rare events occurring in a fixed interval of time or space, such as the number of calls a hospital receives in an hour or the number of accidents on a highway in a day."
   ]
  },
  {
   "cell_type": "markdown",
   "id": "80043eb8",
   "metadata": {},
   "source": [
    "Q8. Generate a random sample of size 1000 from a Poisson distribution with mean 5 and calculate the\n",
    "sample mean and variance."
   ]
  },
  {
   "cell_type": "code",
   "execution_count": 59,
   "id": "6d0898ec",
   "metadata": {},
   "outputs": [],
   "source": [
    "import numpy as np\n",
    "sample=np.random.poisson(5,1000)\n",
    "mean=np.mean(sample)\n",
    "var=np.var(sample)"
   ]
  },
  {
   "cell_type": "code",
   "execution_count": 60,
   "id": "e21a4668",
   "metadata": {},
   "outputs": [
    {
     "data": {
      "text/plain": [
       "4.851084000000001"
      ]
     },
     "execution_count": 60,
     "metadata": {},
     "output_type": "execute_result"
    }
   ],
   "source": [
    "var"
   ]
  },
  {
   "cell_type": "code",
   "execution_count": 61,
   "id": "8944e58f",
   "metadata": {},
   "outputs": [
    {
     "data": {
      "text/plain": [
       "5.054"
      ]
     },
     "execution_count": 61,
     "metadata": {},
     "output_type": "execute_result"
    }
   ],
   "source": [
    "mean"
   ]
  },
  {
   "cell_type": "markdown",
   "id": "a6e052a5",
   "metadata": {},
   "source": [
    "Q9. How mean and variance are related in Binomial distribution and Poisson distribution?"
   ]
  },
  {
   "cell_type": "markdown",
   "id": "07f38ad1",
   "metadata": {},
   "source": [
    "In a Binomial distribution, the mean is equal to the product of the number of trials (n) and the probability of success (p), i.e., mean = n * p. The variance of a Binomial distribution is given by the formula: variance = n * p * (1 - p).\n",
    "\n",
    "In a Poisson distribution, the mean and the variance are equal, i.e., mean = variance = lambda, where lambda is the rate parameter."
   ]
  },
  {
   "cell_type": "markdown",
   "id": "a92d8c28",
   "metadata": {},
   "source": [
    "Q10. In normal distribution with respect to mean position, where does the least frequent data appear?\n"
   ]
  },
  {
   "cell_type": "markdown",
   "id": "ff78cd80",
   "metadata": {},
   "source": [
    "In normal distribution, the least frequent data appears in the tails, farthest away from the mean. As we move farther away from the mean in either direction, the probability density decreases, indicating that data points in these regions are less likely to occur."
   ]
  },
  {
   "cell_type": "code",
   "execution_count": null,
   "id": "5c0bc34f",
   "metadata": {},
   "outputs": [],
   "source": []
  }
 ],
 "metadata": {
  "kernelspec": {
   "display_name": "Python 3 (ipykernel)",
   "language": "python",
   "name": "python3"
  },
  "language_info": {
   "codemirror_mode": {
    "name": "ipython",
    "version": 3
   },
   "file_extension": ".py",
   "mimetype": "text/x-python",
   "name": "python",
   "nbconvert_exporter": "python",
   "pygments_lexer": "ipython3",
   "version": "3.9.12"
  }
 },
 "nbformat": 4,
 "nbformat_minor": 5
}
