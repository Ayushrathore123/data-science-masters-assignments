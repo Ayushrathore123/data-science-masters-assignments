{
 "cells": [
  {
   "cell_type": "markdown",
   "id": "a1d2b53c",
   "metadata": {},
   "source": [
    "Q1. What is a database? Differentiate between SQL and NoSQL databases."
   ]
  },
  {
   "cell_type": "markdown",
   "id": "ba8df127",
   "metadata": {},
   "source": [
    "A database is a structured collection of data that is organized in a way that enables efficient storage, retrieval, and manipulation of data. A database can be thought of as a digital filing cabinet where information is stored and can be accessed and modified as needed.\n",
    "\n",
    "SQL (Structured Query Language) and NoSQL (Not Only SQL) are two types of database management systems that differ in their data models, querying languages, and scalability.\n",
    "\n",
    "SQL databases are relational databases that store data in tables with predefined relationships between them. They use a structured query language (SQL) to manipulate and retrieve data. SQL databases are great for complex queries that require data from multiple tables, and they are highly scalable.\n",
    "\n",
    "NoSQL databases, on the other hand, are non-relational databases that do not use a fixed schema or table structure. NoSQL databases use flexible data models such as document-oriented, key-value, graph, and column-family models. NoSQL databases are great for storing and retrieving large amounts of unstructured data, and they are highly scalable and can handle big data.\n",
    "\n",
    "In summary, SQL databases are great for complex queries and data with well-defined relationships, while NoSQL databases are great for storing and retrieving large amounts of unstructured data and can handle big data.\n",
    "\n",
    "\n",
    "\n"
   ]
  },
  {
   "cell_type": "markdown",
   "id": "3e12fedf",
   "metadata": {},
   "source": [
    "Q2. What is DDL? Explain why CREATE, DROP, ALTER, and TRUNCATE are used with an example."
   ]
  },
  {
   "cell_type": "markdown",
   "id": "b8bf6fc2",
   "metadata": {},
   "source": [
    "DDL (Data Definition Language) is a subset of SQL (Structured Query Language) that is used to create, modify, and delete database objects such as tables, indexes, and views. DDL statements are used to define the structure of the database, and they do not manipulate data.\n",
    "\n",
    "The following are some common DDL statements used in SQL:\n",
    "\n",
    "CREATE: The CREATE statement is used to create a new database object such as a table, view, or index. For example, the following SQL statement creates a new table called \"customers\":\n",
    "\n",
    "CREATE TABLE customers (\n",
    "  id INT PRIMARY KEY,\n",
    "  name VARCHAR(50),\n",
    "  email VARCHAR(100)\n",
    ");\n",
    "\n",
    "DROP: The DROP statement is used to delete a database object such as a table, view, or index. For example, the following SQL statement drops the \"customers\" table:\n",
    "\n",
    "DROP TABLE customers;\n",
    "\n",
    "ALTER: The ALTER statement is used to modify the structure of a database object such as a table, view, or index. For example, the following SQL statement adds a new column called \"phone\" to the \"customers\" table:\n",
    "\n",
    "ALTER TABLE customers ADD phone VARCHAR(20);\n",
    "\n",
    "TRUNCATE: The TRUNCATE statement is used to delete all the data from a table without deleting the table structure. For example, the following SQL statement truncates the \"customers\" table:\n",
    "\n",
    "TRUNCATE TABLE customers;"
   ]
  },
  {
   "cell_type": "markdown",
   "id": "57d859f4",
   "metadata": {},
   "source": [
    "Q3. What is DML? Explain INSERT, UPDATE, and DELETE with an example."
   ]
  },
  {
   "cell_type": "markdown",
   "id": "30923889",
   "metadata": {},
   "source": [
    "DML (Data Manipulation Language) is a subset of SQL (Structured Query Language) that is used to insert, update, and delete data from a database. DML statements are used to modify the data in a database, and they do not affect the structure of the database.\n",
    "\n",
    "The following are some common DML statements used in SQL:\n",
    "\n",
    "INSERT: The INSERT statement is used to add new data to a database table. For example, the following SQL statement inserts a new record into the \"customers\" table:\n",
    "\n",
    "INSERT INTO customers (name, email, phone) VALUES ('John Doe', 'johndoe@example.com', '555-1234');\n",
    "\n",
    "UPDATE: The UPDATE statement is used to modify existing data in a database table. For example, the following SQL statement updates the phone number for the customer with the ID of 1:\n",
    "\n",
    "UPDATE customers SET phone = '555-4321' WHERE id = 1;\n",
    "\n",
    "DELETE: The DELETE statement is used to remove data from a database table. For example, the following SQL statement deletes the record for the customer with the ID of 2:\n",
    "\n",
    "DELETE FROM customers WHERE id = 2;"
   ]
  },
  {
   "cell_type": "markdown",
   "id": "f5949eca",
   "metadata": {},
   "source": [
    "Q4. What is DQL? Explain SELECT with an example."
   ]
  },
  {
   "cell_type": "markdown",
   "id": "169a64df",
   "metadata": {},
   "source": [
    "DQL (Data Query Language) is a subset of SQL (Structured Query Language) that is used to retrieve data from a database. DQL statements are used to select, filter, and sort data in a database.\n",
    "\n",
    "The most commonly used DQL statement is the SELECT statement, which is used to retrieve data from one or more tables in a database. Here is an example of how to use the SELECT statement:\n",
    "\n",
    "Suppose you have a table named \"employees\" with the following columns: \"id\", \"name\", \"department\", and \"salary\". You can use the SELECT statement to retrieve all the data from the \"employees\".\n",
    "\n",
    "SELECT * FROM employees;\n",
    "\n",
    "SELECT name, salary FROM employees;\n",
    "This will return only the \"name\" and \"salary\" columns from the \"employees\" table. You can also use the WHERE clause to filter the results based on specific conditions, like this:\n",
    "\n",
    "\n",
    "SELECT name, department FROM employees WHERE salary > 50000;\n",
    "This will return the \"name\" and \"department\" columns for all employees whose salary is greater than 50000."
   ]
  },
  {
   "cell_type": "markdown",
   "id": "39e29362",
   "metadata": {},
   "source": [
    "Q5. Explain Primary Key and Foreign Key."
   ]
  },
  {
   "cell_type": "markdown",
   "id": "ca7f7527",
   "metadata": {},
   "source": [
    "A primary key is a column or combination of columns in a table that uniquely identifies each row of data. It is a way to enforce the integrity of the data and ensure that each row in the table is unique. The primary key is also used to link the data in one table to the data in another table through the use of foreign keys. Some examples of primary keys include social security numbers, student IDs, and email addresses.\n",
    "\n",
    "A foreign key is a column or combination of columns in one table that refers to the primary key of another table. It is used to create a relationship between the data in two tables. The foreign key constraint ensures that the data in the table with the foreign key matches the data in the table with the primary key. The foreign key is also used to enforce referential integrity between tables, which means that data cannot be inserted or updated in a way that violates the relationships between the tables."
   ]
  },
  {
   "cell_type": "markdown",
   "id": "51ba941d",
   "metadata": {},
   "source": [
    "Q6. Write a python code to connect MySQL to python. Explain the cursor() and execute() method."
   ]
  },
  {
   "cell_type": "markdown",
   "id": "9d016cc4",
   "metadata": {},
   "source": [
    "import mysql.connector\n",
    "\n",
    "\n",
    "conn = mysql.connector.connect(\n",
    "  host=\"localhost\",\n",
    "  user=\"username\",\n",
    "  password=\"password\",\n",
    "  database=\"databasename\"\n",
    ")\n",
    "\n",
    "\n",
    "cursor = conn.cursor()\n",
    "\n",
    "cursor.execute(\"SELECT * FROM customers\")\n",
    "\n",
    "result = cursor.fetchall()\n",
    "\n",
    "for row in result:\n",
    "    print(row)\n",
    "\n",
    "\n",
    "cursor.close()\n",
    "conn.close()\n"
   ]
  },
  {
   "cell_type": "markdown",
   "id": "ed0af6d1",
   "metadata": {},
   "source": [
    "Q7. Give the order of execution of SQL clauses in an SQL query."
   ]
  },
  {
   "cell_type": "markdown",
   "id": "b510c276",
   "metadata": {},
   "source": [
    "The order of execution of SQL clauses in an SQL query is as follows:\n",
    "\n",
    "FROM clause: This clause specifies the table or tables from which the data is retrieved.\n",
    "\n",
    "WHERE clause: This clause filters the data based on a specified condition or set of conditions.\n",
    "\n",
    "GROUP BY clause: This clause groups the data based on one or more columns.\n",
    "\n",
    "HAVING clause: This clause filters the grouped data based on a specified condition or set of conditions.\n",
    "\n",
    "SELECT clause: This clause selects the columns to be displayed in the result set.\n",
    "\n",
    "DISTINCT clause: This clause removes duplicate rows from the result set.\n",
    "\n",
    "ORDER BY clause: This clause sorts the result set based on one or more columns.\n",
    "\n",
    "LIMIT clause: This clause limits the number of rows returned in the result set."
   ]
  },
  {
   "cell_type": "code",
   "execution_count": null,
   "id": "ed55b0be",
   "metadata": {},
   "outputs": [],
   "source": []
  }
 ],
 "metadata": {
  "kernelspec": {
   "display_name": "Python 3 (ipykernel)",
   "language": "python",
   "name": "python3"
  },
  "language_info": {
   "codemirror_mode": {
    "name": "ipython",
    "version": 3
   },
   "file_extension": ".py",
   "mimetype": "text/x-python",
   "name": "python",
   "nbconvert_exporter": "python",
   "pygments_lexer": "ipython3",
   "version": "3.9.12"
  }
 },
 "nbformat": 4,
 "nbformat_minor": 5
}
