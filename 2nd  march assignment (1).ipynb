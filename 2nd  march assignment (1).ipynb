{
 "cells": [
  {
   "cell_type": "raw",
   "id": "429f98ad",
   "metadata": {},
   "source": [
    "Q1: What is Matplotlib? Why is it used? Name five plots that can be plotted using the Pyplot module of\n",
    "Matplotlib."
   ]
  },
  {
   "cell_type": "markdown",
   "id": "ad7f98e5",
   "metadata": {},
   "source": [
    "Matplotlib is a Python library used for creating static, animated, and interactive visualizations in Python. It provides a wide variety of tools for visualizing data in the form of line plots, scatter plots, bar plots, histograms, heatmaps, and more.\n",
    "\n",
    "Matplotlib is used for various purposes such as data analysis, data visualization, and communicating insights from data to a wider audience. It is widely used in scientific computing, engineering, finance, and other fields that involve data analysis.\n",
    "\n",
    "The pyplot module of Matplotlib provides a simple and convenient interface for creating plots. Here are five plots that can be plotted using the Pyplot module of Matplotlib:\n",
    "\n",
    "Line plot: A line plot is a graph that displays data as points connected by straight lines. It is useful for visualizing trends and patterns in data over time or across different variables.\n",
    "\n",
    "Scatter plot: A scatter plot is a graph that displays data as a collection of points. It is useful for visualizing the relationship between two variables and identifying patterns or trends in the data.\n",
    "\n",
    "Bar plot: A bar plot is a graph that displays data as rectangular bars with heights or lengths proportional to the values they represent. It is useful for comparing the values of different variables or categories.\n",
    "\n",
    "Histogram: A histogram is a graph that displays the distribution of a numerical variable by grouping the data into bins and counting the number of observations in each bin. It is useful for visualizing the shape, spread, and central tendency of the data.\n",
    "\n",
    "Heatmap: A heatmap is a graph that displays data as a grid of colored cells, where the color of each cell represents the value of the data. It is useful for visualizing patterns and relationships in large datasets, such as correlations between variables.\n",
    "\n",
    "\n",
    "\n",
    "\n"
   ]
  },
  {
   "cell_type": "raw",
   "id": "92241160",
   "metadata": {},
   "source": [
    "Q2: What is a scatter plot? Use the following code to generate data for x and y. Using this generated data\n",
    "plot a scatter plot.\n",
    "import numpy as np\n",
    "np.random.seed(3)\n",
    "x = 3 + np.random.normal(0, 2, 50)\n",
    "y = 3 + np.random.normal(0, 2, len(x))\n",
    "Note: Also add title, xlabel, and ylabel to the plot."
   ]
  },
  {
   "cell_type": "code",
   "execution_count": 5,
   "id": "15330c0e",
   "metadata": {},
   "outputs": [],
   "source": [
    "import numpy as np\n",
    "m=np.random.seed(3)\n",
    "x = 3 + np.random.normal(0, 2, 50)\n",
    "y = 3 + np.random.normal(0, 2, len(x))"
   ]
  },
  {
   "cell_type": "code",
   "execution_count": 9,
   "id": "5bc99a79",
   "metadata": {},
   "outputs": [],
   "source": [
    "import matplotlib.pyplot as plt"
   ]
  },
  {
   "cell_type": "code",
   "execution_count": 10,
   "id": "950e7d8d",
   "metadata": {},
   "outputs": [
    {
     "data": {
      "text/plain": [
       "array([ 6.57725695,  3.8730197 ,  3.19299494, -0.72698541,  2.44522359,\n",
       "        2.29048204,  2.83451704,  1.74599865,  2.91236366,  2.04556394,\n",
       "        0.37227049,  4.76924476,  4.76263608,  6.41914613,  3.10006728,\n",
       "        2.19064517,  1.9092801 , -0.09295463,  4.96473487,  0.79786474,\n",
       "        0.62990695,  2.5887002 ,  5.97229671,  3.47343253,  0.95242972,\n",
       "        1.5740136 ,  4.25048993,  2.67897327,  1.4623273 ,  2.53993856,\n",
       "        4.49011253,  6.95222157,  0.51175334,  1.74716618,  1.39246781,\n",
       "       -1.83816635,  1.15241596,  0.95224848,  5.24795592,  2.73617153,\n",
       "       -0.24657089,  4.2933509 ,  2.28745848, -0.48628207,  1.80670072,\n",
       "        1.82281124,  1.2522354 ,  3.05942763, -1.49651554,  2.46447627])"
      ]
     },
     "execution_count": 10,
     "metadata": {},
     "output_type": "execute_result"
    }
   ],
   "source": [
    "x"
   ]
  },
  {
   "cell_type": "code",
   "execution_count": 11,
   "id": "07b21b73",
   "metadata": {},
   "outputs": [
    {
     "data": {
      "text/plain": [
       "array([ 5.02636688,  4.70559568,  5.216375  ,  5.23878131,  5.97508626,\n",
       "        0.76339863,  4.69166681, -0.72177906,  1.79422979, -0.82894409,\n",
       "        5.09629502,  5.66747564,  2.60517064,  6.54929006,  1.65054498,\n",
       "        3.30123373,  3.30589141,  0.87160945,  3.87589322,  6.87795692,\n",
       "        0.95013825,  4.79867689,  2.6909863 ,  6.53925461,  3.9675767 ,\n",
       "        4.3524328 ,  4.28632656,  3.49817341,  0.20847299,  5.78332582,\n",
       "        0.25866197,  3.47712638,  4.22815418,  1.32417545,  3.29012643,\n",
       "        5.33576457,  2.95179106,  1.22268516, -2.8314755 ,  1.05631899,\n",
       "        1.81784252,  1.96716526,  1.08000764,  3.75459047,  1.85058316,\n",
       "        2.78109133,  4.3581432 ,  1.28912566,  2.39958785,  7.31629868])"
      ]
     },
     "execution_count": 11,
     "metadata": {},
     "output_type": "execute_result"
    }
   ],
   "source": [
    "y"
   ]
  },
  {
   "cell_type": "code",
   "execution_count": 12,
   "id": "78750f41",
   "metadata": {},
   "outputs": [],
   "source": [
    "m=np.random.seed(3)"
   ]
  },
  {
   "cell_type": "code",
   "execution_count": 19,
   "id": "d491836b",
   "metadata": {},
   "outputs": [
    {
     "data": {
      "text/plain": [
       "Text(0.5, 1.0, 'this is my x vs y')"
      ]
     },
     "execution_count": 19,
     "metadata": {},
     "output_type": "execute_result"
    },
    {
     "data": {
      "image/png": "[encoded data removed]",
      "text/plain": [
       "<Figure size 432x288 with 1 Axes>"
      ]
     },
     "metadata": {
      "needs_background": "light"
     },
     "output_type": "display_data"
    }
   ],
   "source": [
    "plt.scatter(x,y)\n",
    "plt.xlabel(\"this is x axis \")\n",
    "plt.ylabel(\"this is my y axis \")\n",
    "plt.title(\"this is my x vs y\")"
   ]
  },
  {
   "cell_type": "raw",
   "id": "e0ea2f81",
   "metadata": {},
   "source": [
    "Q3: Why is the subplot() function used? Draw four line plots using the subplot() function.\n",
    "Use the following data:\n",
    "import numpy as np\n",
    "For line 1: x = np.array([0, 1, 2, 3, 4, 5]) and y = np.array([0, 100, 200, 300, 400, 500])\n",
    "For line 2: x = np.array([0, 1, 2, 3, 4, 5]) and y = np.array([50, 20, 40, 20, 60, 70])\n",
    "For line 3: x = np.array([0, 1, 2, 3, 4, 5]) and y = np.array([10, 20, 30, 40, 50, 60])\n",
    "For line 4: x = np.array([0, 1, 2, 3, 4, 5]) and y = np.array([200, 350, 250, 550, 450, 150])"
   ]
  },
  {
   "cell_type": "code",
   "execution_count": 20,
   "id": "f2119dcd",
   "metadata": {},
   "outputs": [
    {
     "ename": "SyntaxError",
     "evalue": "invalid syntax (2065110483.py, line 2)",
     "output_type": "error",
     "traceback": [
      "\u001b[1;36m  Input \u001b[1;32mIn [20]\u001b[1;36m\u001b[0m\n\u001b[1;33m    For line 1: x = np.array([0, 1, 2, 3, 4, 5]) and y = np.array([0, 100, 200, 300, 400, 500])\u001b[0m\n\u001b[1;37m        ^\u001b[0m\n\u001b[1;31mSyntaxError\u001b[0m\u001b[1;31m:\u001b[0m invalid syntax\n"
     ]
    }
   ],
   "source": [
    "import numpy as np\n",
    "For line 1: x = np.array([0, 1, 2, 3, 4, 5]) and y = np.array([0, 100, 200, 300, 400, 500])\n",
    "For line 2: x = np.array([0, 1, 2, 3, 4, 5]) and y = np.array([50, 20, 40, 20, 60, 70])\n",
    "For line 3: x = np.array([0, 1, 2, 3, 4, 5]) and y = np.array([10, 20, 30, 40, 50, 60])\n",
    "For line 4: x = np.array([0, 1, 2, 3, 4, 5]) and y = np.array([200, 350, 250, 550, 450, 150])"
   ]
  },
  {
   "cell_type": "markdown",
   "id": "4d202561",
   "metadata": {},
   "source": [
    "## line 1"
   ]
  },
  {
   "cell_type": "code",
   "execution_count": 22,
   "id": "83d8292f",
   "metadata": {},
   "outputs": [],
   "source": [
    "x = np.array([0, 1, 2, 3, 4, 5])\n",
    "y = np.array([0, 100, 200, 300, 400, 500])"
   ]
  },
  {
   "cell_type": "code",
   "execution_count": 23,
   "id": "f22156f1",
   "metadata": {},
   "outputs": [
    {
     "data": {
      "text/plain": [
       "array([0, 1, 2, 3, 4, 5])"
      ]
     },
     "execution_count": 23,
     "metadata": {},
     "output_type": "execute_result"
    }
   ],
   "source": [
    "x"
   ]
  },
  {
   "cell_type": "code",
   "execution_count": 24,
   "id": "68aee7c1",
   "metadata": {},
   "outputs": [
    {
     "data": {
      "text/plain": [
       "array([  0, 100, 200, 300, 400, 500])"
      ]
     },
     "execution_count": 24,
     "metadata": {},
     "output_type": "execute_result"
    }
   ],
   "source": [
    "y"
   ]
  },
  {
   "cell_type": "code",
   "execution_count": 25,
   "id": "3c3a346a",
   "metadata": {},
   "outputs": [
    {
     "data": {
      "text/plain": [
       "[<matplotlib.lines.Line2D at 0x2b7a5b7fb50>]"
      ]
     },
     "execution_count": 25,
     "metadata": {},
     "output_type": "execute_result"
    },
    {
     "data": {
      "image/png": "[encoded data removed]",
      "text/plain": [
       "<Figure size 432x288 with 1 Axes>"
      ]
     },
     "metadata": {
      "needs_background": "light"
     },
     "output_type": "display_data"
    }
   ],
   "source": [
    "plt.plot(x,y)"
   ]
  },
  {
   "cell_type": "markdown",
   "id": "cb6b829d",
   "metadata": {},
   "source": [
    "## line 2"
   ]
  },
  {
   "cell_type": "code",
   "execution_count": 28,
   "id": "a87e81c3",
   "metadata": {},
   "outputs": [],
   "source": [
    "x = np.array([0, 1, 2, 3, 4, 5])\n",
    "y = np.array([50, 20, 40, 20, 60, 70])"
   ]
  },
  {
   "cell_type": "code",
   "execution_count": 30,
   "id": "2bd7ad3d",
   "metadata": {},
   "outputs": [
    {
     "data": {
      "text/plain": [
       "[<matplotlib.lines.Line2D at 0x2b7a5bb5820>]"
      ]
     },
     "execution_count": 30,
     "metadata": {},
     "output_type": "execute_result"
    },
    {
     "data": {
      "image/png": "[encoded data removed]",
      "text/plain": [
       "<Figure size 432x288 with 1 Axes>"
      ]
     },
     "metadata": {
      "needs_background": "light"
     },
     "output_type": "display_data"
    }
   ],
   "source": [
    "plt.plot(x,y)"
   ]
  },
  {
   "cell_type": "markdown",
   "id": "7d07b977",
   "metadata": {},
   "source": [
    "## line 3"
   ]
  },
  {
   "cell_type": "code",
   "execution_count": 32,
   "id": "60bf9fec",
   "metadata": {},
   "outputs": [],
   "source": [
    "x = np.array([0, 1, 2, 3, 4, 5])\n",
    "y = np.array([10, 20, 30, 40, 50, 60])"
   ]
  },
  {
   "cell_type": "code",
   "execution_count": 33,
   "id": "bca373c6",
   "metadata": {},
   "outputs": [
    {
     "data": {
      "text/plain": [
       "[<matplotlib.lines.Line2D at 0x2b7a6130130>]"
      ]
     },
     "execution_count": 33,
     "metadata": {},
     "output_type": "execute_result"
    },
    {
     "data": {
      "image/png": "[encoded data removed]",
      "text/plain": [
       "<Figure size 432x288 with 1 Axes>"
      ]
     },
     "metadata": {
      "needs_background": "light"
     },
     "output_type": "display_data"
    }
   ],
   "source": [
    "plt.plot(x,y)"
   ]
  },
  {
   "cell_type": "markdown",
   "id": "3306e611",
   "metadata": {},
   "source": [
    "## line4"
   ]
  },
  {
   "cell_type": "code",
   "execution_count": 35,
   "id": "0646a0ae",
   "metadata": {},
   "outputs": [],
   "source": [
    "x = np.array([0, 1, 2, 3, 4, 5]) \n",
    "y = np.array([200, 350, 250, 550, 450, 150])"
   ]
  },
  {
   "cell_type": "code",
   "execution_count": 36,
   "id": "d9239979",
   "metadata": {},
   "outputs": [
    {
     "data": {
      "text/plain": [
       "[<matplotlib.lines.Line2D at 0x2b7a6427be0>]"
      ]
     },
     "execution_count": 36,
     "metadata": {},
     "output_type": "execute_result"
    },
    {
     "data": {
      "image/png": "[encoded data removed]",
      "text/plain": [
       "<Figure size 432x288 with 1 Axes>"
      ]
     },
     "metadata": {
      "needs_background": "light"
     },
     "output_type": "display_data"
    }
   ],
   "source": [
    "plt.plot(x,y)"
   ]
  },
  {
   "cell_type": "raw",
   "id": "18e359ca",
   "metadata": {},
   "source": [
    "Q4: What is a bar plot? Why is it used? Using the following data plot a bar plot and a horizontal bar plot.\n",
    "import numpy as np\n",
    "company = np.array([\"Apple\", \"Microsoft\", \"Google\", \"AMD\"])\n",
    "profit = np.array([3000, 8000, 1000, 10000])"
   ]
  },
  {
   "cell_type": "code",
   "execution_count": 37,
   "id": "b711bd7b",
   "metadata": {},
   "outputs": [],
   "source": [
    "import numpy as np\n",
    "company = np.array([\"Apple\", \"Microsoft\", \"Google\", \"AMD\"])\n",
    "profit = np.array([3000, 8000, 1000, 10000])"
   ]
  },
  {
   "cell_type": "code",
   "execution_count": 38,
   "id": "c7b4f04c",
   "metadata": {},
   "outputs": [
    {
     "data": {
      "text/plain": [
       "<BarContainer object of 4 artists>"
      ]
     },
     "execution_count": 38,
     "metadata": {},
     "output_type": "execute_result"
    },
    {
     "data": {
      "image/png": "[encoded data removed]",
      "text/plain": [
       "<Figure size 432x288 with 1 Axes>"
      ]
     },
     "metadata": {
      "needs_background": "light"
     },
     "output_type": "display_data"
    }
   ],
   "source": [
    "plt.barh(company,profit)"
   ]
  },
  {
   "cell_type": "raw",
   "id": "cb3b1f6f",
   "metadata": {},
   "source": [
    "Q5: What is a box plot? Why is it used? Using the following data plot a box plot.\n",
    "box1 = np.random.normal(100, 10, 200)\n",
    "box2 = np.random.normal(90, 20, 200)"
   ]
  },
  {
   "cell_type": "code",
   "execution_count": 41,
   "id": "f451dc20",
   "metadata": {},
   "outputs": [],
   "source": [
    "box1 = np.random.normal(100, 10, 200)\n",
    "box2 = np.random.normal(90, 20, 200)"
   ]
  },
  {
   "cell_type": "code",
   "execution_count": 43,
   "id": "96007f1e",
   "metadata": {},
   "outputs": [
    {
     "data": {
      "image/png": "[encoded data removed]",
      "text/plain": [
       "<Figure size 432x288 with 2 Axes>"
      ]
     },
     "metadata": {
      "needs_background": "light"
     },
     "output_type": "display_data"
    },
    {
     "data": {
      "text/plain": [
       "<Figure size 360x720 with 0 Axes>"
      ]
     },
     "metadata": {},
     "output_type": "display_data"
    }
   ],
   "source": [
    "fig,ax=plt.subplots(1,2)\n",
    "plt.figure(figsize=(5,10))\n",
    "ax[0].boxplot(box1)\n",
    "ax[0].set_title(\"This is boxplot of box1\")\n",
    "ax[1].boxplot(box2)\n",
    "ax[1].set_title(\"This is the boxplot of box2\")\n",
    "plt.show()"
   ]
  },
  {
   "cell_type": "code",
   "execution_count": null,
   "id": "07781944",
   "metadata": {},
   "outputs": [],
   "source": []
  }
 ],
 "metadata": {
  "kernelspec": {
   "display_name": "Python 3 (ipykernel)",
   "language": "python",
   "name": "python3"
  },
  "language_info": {
   "codemirror_mode": {
    "name": "ipython",
    "version": 3
   },
   "file_extension": ".py",
   "mimetype": "text/x-python",
   "name": "python",
   "nbconvert_exporter": "python",
   "pygments_lexer": "ipython3",
   "version": "3.9.12"
  }
 },
 "nbformat": 4,
 "nbformat_minor": 5
}
