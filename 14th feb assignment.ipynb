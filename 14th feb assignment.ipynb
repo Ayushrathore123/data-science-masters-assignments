{
 "cells": [
  {
   "cell_type": "markdown",
   "id": "24154602",
   "metadata": {},
   "source": [
    " Q1. what is multithreading in python?why is it used? Name the module used to handle threads in python"
   ]
  },
  {
   "cell_type": "markdown",
   "id": "8259d77f",
   "metadata": {},
   "source": [
    "Multithreading in Python refers to the ability of a program to simultaneously execute multiple threads of execution within the same process. Each thread runs independently, with its own stack and local variables, but all threads share the same memory space.\n",
    "\n",
    "Multithreading is used in Python to improve the performance of programs that have tasks that can be executed concurrently. By using multiple threads, the program can perform several tasks at the same time, rather than executing them one after another. This can help to reduce the overall processing time of the program and improve its responsiveness.\n",
    "\n",
    "In Python, the threading module is used to handle threads. This module provides a simple way to create and manage threads within a program. It allows you to create new threads, start and stop them, and synchronize their execution with other threads in the program. With the threading module, you can write multithreaded programs that take full advantage of the capabilities of modern hardware."
   ]
  },
  {
   "cell_type": "markdown",
   "id": "47dd0c0c",
   "metadata": {},
   "source": [
    "Q2. why threading module used? write the use of the following functions\n",
    "\n",
    "activeCount\n",
    "\n",
    "currentThread\n",
    "\n",
    " enumerate)"
   ]
  },
  {
   "cell_type": "markdown",
   "id": "f7be33af",
   "metadata": {},
   "source": [
    "The threading module in Python is used for creating and managing threads in a program. It allows multiple threads to run concurrently within a single process, providing a way to write parallel code.\n",
    "\n",
    "Here are the descriptions of the functions you mentioned:\n",
    "\n",
    "activeCount(): This function returns the number of Thread objects that are active (i.e., not yet terminated). It can be useful for debugging and monitoring the number of threads in a program.\n",
    "\n",
    "currentThread(): This function returns a reference to the current Thread object that is executing the current code. It can be useful for identifying the current thread and for accessing its attributes.\n",
    "\n",
    "enumerate(): This function returns a list of all active Thread objects in the current process. It can be useful for debugging and monitoring the threads in a program. If the threading.enumerate() function is called from within a thread other than the main thread, the returned list will include the main thread in addition to any other active threads."
   ]
  },
  {
   "cell_type": "markdown",
   "id": "950144bd",
   "metadata": {},
   "source": [
    "3. Explain the following functions\n",
    "  \n",
    "  run\n",
    " \n",
    " start\n",
    " \n",
    " join\n",
    " \n",
    " isAlive"
   ]
  },
  {
   "cell_type": "markdown",
   "id": "64842303",
   "metadata": {},
   "source": [
    "run(): This method is used to define the behavior of a thread when it is started. When a thread is started using the start() method, it calls the run() method internally. This method contains the code that the thread will execute.\n",
    "\n",
    "start(): This method is used to start a new thread of execution. It creates a new thread and calls the run() method on that thread. When a thread is started using this method, it begins to execute in parallel with the other threads in the program.\n",
    "\n",
    "join(): This method is used to block the current thread until the thread on which it is called completes its execution. When a thread calls the join() method on another thread, it waits for that thread to complete before continuing with its own execution. This can be useful for coordinating the behavior of multiple threads.\n",
    "\n",
    "isAlive(): This method is used to check whether a thread is currently executing or not. It returns True if the thread is still executing, and False if it has completed its execution. This method can be useful for monitoring the status of a thread from another thread."
   ]
  },
  {
   "cell_type": "markdown",
   "id": "4e61af1d",
   "metadata": {},
   "source": [
    "Q4. write a python program to create two threads. Thread one must print the list of squares and thread\n",
    "two must print the list of cubes"
   ]
  },
  {
   "cell_type": "code",
   "execution_count": 17,
   "id": "a1a0ac79",
   "metadata": {},
   "outputs": [
    {
     "name": "stdout",
     "output_type": "stream",
     "text": [
      "List of squares: [1, 4, 9, 16, 25, 36, 49, 64, 81, 100]\n",
      "List of cubes: [1, 8, 27, 64, 125, 216, 343, 512, 729, 1000]\n",
      "Done.\n"
     ]
    }
   ],
   "source": [
    "import threading\n",
    "\n",
    "\n",
    "def print_squares():\n",
    "    squares = [i*i for i in range(1, 11)]\n",
    "    print(\"List of squares:\", squares)\n",
    "\n",
    "\n",
    "def print_cubes():\n",
    "    cubes = [i*i*i for i in range(1, 11)]\n",
    "    print(\"List of cubes:\", cubes)\n",
    "\n",
    "\n",
    "t1 = threading.Thread(target=print_squares)\n",
    "t2 = threading.Thread(target=print_cubes)\n",
    "\n",
    "\n",
    "t1.start()\n",
    "t2.start()\n",
    "\n",
    "\n",
    "t1.join()\n",
    "t2.join()\n",
    "\n",
    "\n",
    "print(\"Done.\")\n"
   ]
  },
  {
   "cell_type": "markdown",
   "id": "75447469",
   "metadata": {},
   "source": [
    "Q5. State advantages and disadvantages of multithreading"
   ]
  },
  {
   "cell_type": "markdown",
   "id": "f164e1a0",
   "metadata": {},
   "source": [
    "Advantages:\n",
    "\n",
    "Improved performance: Multithreading allows a program to execute multiple threads in parallel, which can improve the overall performance of the program by utilizing the available CPU resources more effectively.\n",
    "\n",
    "Simplified program structure: Multithreading can simplify the structure of a program by allowing different parts of the program to execute concurrently, without having to break the program into separate processes or programs.\n",
    "\n",
    "Better user experience: Multithreading can improve the user experience by allowing a program to remain responsive while performing long-running tasks in the background. For example, a graphical user interface (GUI) can continue to respond to user input while a long-running calculation is performed in a separate thread.\n",
    "\n",
    "Simplified resource sharing: Multithreading can simplify the sharing of resources between different parts of a program, by allowing multiple threads to access shared resources concurrently, without requiring complex synchronization mechanisms.\n",
    "\n",
    "Disadvantages:\n",
    "\n",
    "Increased complexity: Multithreading can make a program more complex, as it introduces new possibilities for race conditions, deadlocks, and other synchronization issues that can be difficult to debug.\n",
    "\n",
    "Increased memory usage: Multithreading can increase the memory usage of a program, as each thread requires its own stack and other data structures.\n",
    "\n",
    "Reduced predictability: Multithreading can reduce the predictability of a program, as the order in which threads execute can be difficult to predict, leading to non-deterministic behavior.\n",
    "\n",
    "Debugging and testing difficulties: Multithreaded programs can be more difficult to debug and test, as issues may only occur when specific thread interleavings occur, making it harder to reproduce and diagnose problems"
   ]
  },
  {
   "cell_type": "markdown",
   "id": "db614df2",
   "metadata": {},
   "source": [
    "Q6. Explain deadlocks and race conditions."
   ]
  },
  {
   "cell_type": "markdown",
   "id": "8dff4f84",
   "metadata": {},
   "source": [
    "Deadlocks:\n",
    "\n",
    "A deadlock occurs when two or more threads are blocked, waiting for each other to release a resource that they hold, resulting in a situation where none of the threads can proceed. This can happen when threads acquire resources in a particular order and then hold on to them while waiting for other resources to become available, leading to a circular dependency that cannot be resolved. Deadlocks can be difficult to detect and resolve, and can cause a program to become unresponsive.\n",
    "\n",
    "Race conditions:\n",
    "\n",
    "A race condition occurs when the behavior of a program depends on the timing or interleaving of multiple threads, and the outcome of the program is not deterministic. This can happen when multiple threads access shared resources concurrently, without proper synchronization mechanisms in place, leading to unexpected results. Race conditions can cause a program to behave incorrectly, produce incorrect results, or crash."
   ]
  },
  {
   "cell_type": "code",
   "execution_count": null,
   "id": "aec6d808",
   "metadata": {},
   "outputs": [],
   "source": []
  },
  {
   "cell_type": "code",
   "execution_count": null,
   "id": "d0ed29d6",
   "metadata": {},
   "outputs": [],
   "source": []
  },
  {
   "cell_type": "code",
   "execution_count": null,
   "id": "cd4d5070",
   "metadata": {},
   "outputs": [],
   "source": []
  },
  {
   "cell_type": "code",
   "execution_count": null,
   "id": "cbc403a2",
   "metadata": {},
   "outputs": [],
   "source": []
  },
  {
   "cell_type": "code",
   "execution_count": null,
   "id": "0249c2ed",
   "metadata": {},
   "outputs": [],
   "source": []
  },
  {
   "cell_type": "code",
   "execution_count": null,
   "id": "40bafc7a",
   "metadata": {},
   "outputs": [],
   "source": []
  }
 ],
 "metadata": {
  "kernelspec": {
   "display_name": "Python 3 (ipykernel)",
   "language": "python",
   "name": "python3"
  },
  "language_info": {
   "codemirror_mode": {
    "name": "ipython",
    "version": 3
   },
   "file_extension": ".py",
   "mimetype": "text/x-python",
   "name": "python",
   "nbconvert_exporter": "python",
   "pygments_lexer": "ipython3",
   "version": "3.9.12"
  }
 },
 "nbformat": 4,
 "nbformat_minor": 5
}
